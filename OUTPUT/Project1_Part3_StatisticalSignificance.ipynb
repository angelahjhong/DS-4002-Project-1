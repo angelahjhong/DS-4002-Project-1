 {
  "nbformat": 4,
  "nbformat_minor": 0,
  "metadata": {
    "colab": {
      "provenance": []
    },
    "kernelspec": {
      "name": "python3",
      "display_name": "Python 3"
    },
    "language_info": {
      "name": "python"
    }
  },
  "cells": [
    {
      "cell_type": "code",
      "execution_count": 1,
      "metadata": {
        "colab": {
          "base_uri": "https://localhost:8080/"
        },
        "id": "7RVtH3lin-Y6",
        "outputId": "ee8e22bb-9141-4784-8209-64fd8b1f5fad"
      },
      "outputs": [
        {
          "output_type": "stream",
          "name": "stdout",
          "text": [
            "Z-score=  66.54347924763114\n"
          ]
        }
      ],
      "source": [
        "#statistical significance of the average sentiment scores between biden and trump\n",
        "\n",
        "import math\n",
        "from scipy.stats import norm\n",
        "\n",
        "#biden\n",
        "mean1 = 0.111159\n",
        "sd1 = 0.47981\n",
        "n1 = 154344\n",
        "\n",
        "#trump\n",
        "mean2 = -0.003819\n",
        "sd2 = 0.500793\n",
        "n2 = 167876\n",
        "\n",
        "# find standard error of the difference\n",
        "sd_diff = math.sqrt((sd1** 2 /n1) + (sd2**2/ n2))\n",
        "\n",
        "# calculate z-score\n",
        "z_score = (mean1 - mean2)/sd_diff\n",
        "\n",
        "# find the z-score\n",
        "print(\"Z-score= \", z_score)"
      ]
    },
    {
      "cell_type": "code",
      "source": [
        "#using the z-score, now we can figure out the p-value\n",
        "z_score= 66.54\n",
        "p_value= 2 *(1-norm.cdf(abs(z_score)))\n",
        "print(\"P-value= \" , p_value)"
      ],
      "metadata": {
        "colab": {
          "base_uri": "https://localhost:8080/"
        },
        "id": "QLdMk6proA6d",
        "outputId": "2265958c-832e-430a-b1ab-aef94e5699e4"
      },
      "execution_count": 2,
      "outputs": [
        {
          "output_type": "stream",
          "name": "stdout",
          "text": [
            "P-value=  0.0\n"
          ]
        }
      ]
    }
  ]
}
