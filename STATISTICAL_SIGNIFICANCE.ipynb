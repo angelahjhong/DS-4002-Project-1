{
  "nbformat": 4,
  "nbformat_minor": 0,
  "metadata": {
    "colab": {
      "provenance": [],
      "authorship_tag": "ABX9TyP5zUV296+4OMKxBk0LMYcN",
      "include_colab_link": true
    },
    "kernelspec": {
      "name": "python3",
      "display_name": "Python 3"
    },
    "language_info": {
      "name": "python"
    }
  },
  "cells": [
    {
      "cell_type": "markdown",
      "metadata": {
        "id": "view-in-github",
        "colab_type": "text"
      },
      "source": [
        "<a href=\"https://colab.research.google.com/github/angelahjhong/DS-4002-Project-1/blob/main/STATISTICAL_SIGNIFICANCE.ipynb\" target=\"_parent\"><img src=\"https://colab.research.google.com/assets/colab-badge.svg\" alt=\"Open In Colab\"/></a>"
      ]
    },
    {
      "cell_type": "code",
      "execution_count": 7,
      "metadata": {
        "colab": {
          "base_uri": "https://localhost:8080/"
        },
        "id": "tJvKKswulBgW",
        "outputId": "72a2a724-e4b8-46a5-f77d-171344b84960"
      },
      "outputs": [
        {
          "output_type": "stream",
          "name": "stdout",
          "text": [
            "Z-score=  66.54347924763114\n"
          ]
        }
      ],
      "source": [
        "#Statistical significance of the average sentiment scores between Biden and Trump\n",
        "\n",
        "import math\n",
        "from scipy.stats import norm\n",
        "\n",
        "#Biden\n",
        "mean1 = 0.111159\n",
        "sd1 = 0.47981\n",
        "n1 = 154344\n",
        "\n",
        "#Trump\n",
        "mean2 = -0.003819\n",
        "sd2 = 0.500793\n",
        "n2 = 167876\n",
        "\n",
        "# find standard error of the difference\n",
        "sd_diff = math.sqrt((sd1** 2 /n1) + (sd2**2/ n2))\n",
        "\n",
        "# calculate z-score\n",
        "z_score = (mean1 - mean2)/sd_diff\n",
        "\n",
        "#find the z-score\n",
        "print(\"Z-score= \", z_score)\n",
        "\n"
      ]
    },
    {
      "cell_type": "code",
      "source": [
        "#using the z-score, now we can figure out the p-value"
      ],
      "metadata": {
        "id": "ORhqmb5wlftj"
      },
      "execution_count": 8,
      "outputs": []
    },
    {
      "cell_type": "code",
      "source": [
        "z_score= 66.54\n",
        "p_value= 2 *(1-norm.cdf(abs(z_score)))\n",
        "print(\"P-value= \" , p_value)"
      ],
      "metadata": {
        "colab": {
          "base_uri": "https://localhost:8080/"
        },
        "id": "GGPg3gsklntG",
        "outputId": "71a0143d-8030-4555-b5ef-32bc5f46b398"
      },
      "execution_count": 11,
      "outputs": [
        {
          "output_type": "stream",
          "name": "stdout",
          "text": [
            "P-value=  0.0\n"
          ]
        }
      ]
    },
    {
      "cell_type": "code",
      "source": [],
      "metadata": {
        "id": "iWdLYfTEl_L8"
      },
      "execution_count": null,
      "outputs": []
    }
  ]
}